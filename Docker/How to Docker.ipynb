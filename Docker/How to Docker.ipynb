{
 "cells": [
  {
   "cell_type": "markdown",
   "metadata": {},
   "source": [
    "# How to Docker\n",
    "A guide written by [Jonny Langefeld](https://twitter.com/jonnylangefeld)\n",
    "\n",
    "### What is Docker?\n",
    "\n",
    "Docker is a software container platform. \n",
    "\n",
    "- **Developers** use Docker to eliminate “works on my machine” problems when collaborating on code with co-workers. \n",
    "- **Operators** use Docker to run and manage apps side-by-side in isolated containers to get better compute density. \n",
    "- **Enterprises** use Docker to build agile software delivery pipelines to ship new features faster, more securely and with confidence for both Linux and Windows Server apps\n",
    "\n",
    "### Docker Terminology\n",
    "\n",
    "#### Images\n",
    "\n",
    "A docker images is the **\"cooking recipe\"** for a container. It contains all the definitions how to boot up the linux environment. Typically one Docker image is there to fulfill specifically one task. For instance one image would define your webserver and another image would define the underlying database.\n",
    "\n",
    "#### Containers\n",
    "\n",
    "Containers are the **instantiations of images**. They are one form of the image. Compare it to object oriented programming, then your class would be an image and instance of the class a container. Another comparison would be to real containers on ship. They have a unidbody from the outside, but can look very different from the inside. Some interesting facts about containers:\n",
    "- containers are not persistent. As soon as you don't use them anymore they get stoped (or even deleted)\n",
    "- a container only lives for the time a process runs inside it which does not get killed (of course you could run processess which never send an exit command)\n",
    "- containers can include data however it's also not persistent. If you want to make it persistent, you can use volumes.\n",
    "- to communicate between containers, use the same protocolls as you would use to communicate between computers (e.g. tcp/ip)\n",
    "\n",
    "#### Volumes\n",
    "\n",
    "Volumes can be used as **underlying data layer**. They can be used between as many containers as you want. All data stored in here could be used by all containers connected to it.\n",
    "\n",
    "#### Networks\n",
    "\n",
    "Docker comes with its own networking capabilities. The name of a container is its hostname. The easiest way to try this is to have two containers running and ping one container from inside the other container. Docker Compose will raise its own subnet.\n",
    "\n",
    "<p align=\"center\">\n",
    "  <img src=\"Docker_Terminology.jpg\"/ width=400px>\n",
    "</p>"
   ]
  },
  {
   "cell_type": "markdown",
   "metadata": {},
   "source": [
    "Let's start with some actual containers. But first let's check if your docker deamon is running. Copy and paste this to your command line:"
   ]
  },
  {
   "cell_type": "code",
   "execution_count": null,
   "metadata": {
    "collapsed": false,
    "scrolled": true
   },
   "outputs": [],
   "source": [
    "docker --version"
   ]
  },
  {
   "cell_type": "markdown",
   "metadata": {},
   "source": [
    "### Containers\n",
    "If you get the docker version as an output, you are good to go. If not, [first install docker correctly](https://docs.docker.com/engine/installation/)."
   ]
  },
  {
   "cell_type": "code",
   "execution_count": null,
   "metadata": {
    "collapsed": true
   },
   "outputs": [],
   "source": [
    "docker run hello-world"
   ]
  },
  {
   "cell_type": "markdown",
   "metadata": {},
   "source": [
    "The following output should pop up on the screen:\n",
    "\n",
    "    Hello from Docker!\n",
    "    This message shows that your installation appears to be working correctly.\n",
    "\n",
    "    To generate this message, Docker took the following steps:\n",
    "     1. The Docker client contacted the Docker daemon.\n",
    "     2. The Docker daemon pulled the \"hello-world\" image from the Docker Hub.\n",
    "     3. The Docker daemon created a new container from that image which runs the\n",
    "        executable that produces the output you are currently reading.\n",
    "     4. The Docker daemon streamed that output to the Docker client, which sent it\n",
    "        to your terminal.\n",
    "\n",
    "    To try something more ambitious, you can run an Ubuntu container with:\n",
    "     $ docker run -it ubuntu bash\n",
    "\n",
    "    Share images, automate workflows, and more with a free Docker ID:\n",
    "     https://cloud.docker.com/\n",
    "\n",
    "    For more examples and ideas, visit:\n",
    "     https://docs.docker.com/engine/userguide/\n",
    "     \n",
    "The output already describes really good what has happened with this one command. So you started a container, the image of which came from the official docker hub, it executed just an `echo` command and exited again.\n",
    "Now send the command:"
   ]
  },
  {
   "cell_type": "code",
   "execution_count": null,
   "metadata": {
    "collapsed": true
   },
   "outputs": [],
   "source": [
    "docker ps -a"
   ]
  },
  {
   "cell_type": "markdown",
   "metadata": {},
   "source": [
    "And the output should be something similar to\n",
    "\n",
    "    CONTAINER ID    IMAGE          COMMAND    CREATED         STATUS                     PORTS    NAMES\n",
    "    8d0249bb31fe    hello-world    \"/hello\"   3 minutes ago   Exited (0) 7 seconds ago            lucid_goldwasser\n",
    "\n",
    "this is the container you just fired up, but which of course exited right away. In the names column you see a radnom name. Even if the container id is also a unique identifier, it's sometimes easier to have a real name. So this is only for your convenience, but does the same. Let's give our hello world example a name:"
   ]
  },
  {
   "cell_type": "code",
   "execution_count": null,
   "metadata": {
    "collapsed": true
   },
   "outputs": [],
   "source": [
    "docker run --name my-hello hello-world"
   ]
  },
  {
   "cell_type": "markdown",
   "metadata": {},
   "source": [
    "Sure enough it does the exact same thing as in our example above, but this time, if you fire `docker ps -a` you have two rows, one of which has your new name.    \n",
    "If you would just re-run the command above, you would run into an error as there is already a container with the name `my-hello`. To get around this you would need to send:"
   ]
  },
  {
   "cell_type": "code",
   "execution_count": null,
   "metadata": {
    "collapsed": true
   },
   "outputs": [],
   "source": [
    "docker rm my-hello"
   ]
  },
  {
   "cell_type": "markdown",
   "metadata": {},
   "source": [
    "To get around this in the future, you could just run your container with the `--rm` flag. It means that your container gets immediately removed if it exits.    \n",
    "Now as the hello-world container suggests, let's get into a more elaborated example:"
   ]
  },
  {
   "cell_type": "code",
   "execution_count": null,
   "metadata": {
    "collapsed": true
   },
   "outputs": [],
   "source": [
    "docker run -it --name my-linux-container ubuntu bash"
   ]
  },
  {
   "cell_type": "markdown",
   "metadata": {},
   "source": [
    "Good Job! You just started a full docker container, that runs an ubuntu linux. The `bash` at the end of the command indicates, that you got directly sent into the bash of that linux, indicated by the `'#'`. You may have noticed that it took a while to start the container. That is because docker did not find the ubuntu image locally, so it had to download it from the official docker hub.     \n",
    "Any command you issue from here only lives inside this container. Let's say you create a file with `touch myfile`, it only lives as long as you type the word `exit`.    \n",
    "The `-it` flag is needed to create an interactive tty.    \n",
    "If you now send `docker ps -a` from another window, you see your running container with the name `my-linux-container`    \n",
    "\n",
    "Now type"
   ]
  },
  {
   "cell_type": "code",
   "execution_count": null,
   "metadata": {
    "collapsed": true
   },
   "outputs": [],
   "source": [
    "exit"
   ]
  },
  {
   "cell_type": "markdown",
   "metadata": {},
   "source": [
    "to exit the container. The `docker ps -a` command will show to exited container.    \n",
    "Now fire the command"
   ]
  },
  {
   "cell_type": "code",
   "execution_count": null,
   "metadata": {
    "collapsed": true
   },
   "outputs": [],
   "source": [
    "docker images"
   ]
  },
  {
   "cell_type": "markdown",
   "metadata": {},
   "source": [
    "It displays the two images we used so far. They are now downloaded on your computer. You can delete them at any time to free up disk space with the command `docker rmi [image name]` (if your image that you want to delete is still in use by a container, but you are sure that you want to delete the image anyway, just use the `-f` flag.    \n",
    "What's interesting now, is if you start the ubuntu container again with a new name:"
   ]
  },
  {
   "cell_type": "code",
   "execution_count": null,
   "metadata": {
    "collapsed": true
   },
   "outputs": [],
   "source": [
    "docker run -it --name my-linux-container-1 ubuntu bash"
   ]
  },
  {
   "cell_type": "markdown",
   "metadata": {},
   "source": [
    "See how quick that was? That is because the image now got downloaded to on your hard drive.    \n",
    "\n",
    "---\n",
    "After a while playing with docker you are going to have a lot of exited containers (remember you can list them with `docker ps -a`. To get rid of them just execute the following:"
   ]
  },
  {
   "cell_type": "code",
   "execution_count": null,
   "metadata": {
    "collapsed": true
   },
   "outputs": [],
   "source": [
    "docker rm $(docker ps -a -f status=exited -q)"
   ]
  },
  {
   "cell_type": "markdown",
   "metadata": {
    "collapsed": true
   },
   "source": [
    "In general there will be a whole lot you might want to delete after using it. [This](https://www.digitalocean.com/community/tutorials/how-to-remove-docker-images-containers-and-volumes) Digital Ocean site does a pretty good job of explaining that.\n",
    "\n",
    "---\n",
    "\n",
    "### Volumes\n",
    "Let's create a container that actually refers to some local files. This can be done with the `-v` flag. You can always refer to `run --help` to get all the details for the syntax. The notation would be\n",
    "\n",
    "    -v [path to local]:[path inside container]\n",
    "The following example is for Windows (where the C:\\Users folder is shared with the virtual machine by default). On Mac and linux you would just use a regular path like `/user/admin/docker`"
   ]
  },
  {
   "cell_type": "code",
   "execution_count": null,
   "metadata": {
    "collapsed": true
   },
   "outputs": [],
   "source": [
    "docker run -it --name my-linux-container --rm -v /c/Users/:/my-data ubuntu bash"
   ]
  },
  {
   "cell_type": "markdown",
   "metadata": {},
   "source": [
    "Then you can execute"
   ]
  },
  {
   "cell_type": "code",
   "execution_count": null,
   "metadata": {
    "collapsed": true
   },
   "outputs": [],
   "source": [
    "ls my-data/"
   ]
  },
  {
   "cell_type": "markdown",
   "metadata": {},
   "source": [
    "to see the linked files. But be careful! Your container now refers to actual files on your hard drive. So if you remove something inside the container it will be gone on your host system as well (and linux would not ask for confirmation). So it's better to only link the sub folder that you intend to use.\n",
    "\n",
    "---\n",
    "### Dockerfiles\n",
    "This is where things get interesting. The dockerfile is your actual \"recipe\" which defines your images. So far we've used images created by others. As the `hello-world` container told us, it was looking locally for the `hello-world` images, did not find it, so it searched online. By online it means the [official Docker Hub](https://hub.docker.com/).    \n",
    "A Dockerfile is literally just a file called '`Dockerfile`' on your system. Let's create one.    \n",
    "You pretty much always start a Dockerfile based on another container. So your Dockerfile most likely begins with the `FROM` keyword. After that you can execute any linux command you like with the `CMD` keyword. ([Find here the list of possible keywords](https://docs.docker.com/engine/reference/builder/) - but don't let them intimmidate you. There are a lot!).    \n",
    "\n",
    "Now create a new Folder on your system and inside this folder create a new file called `Dockerfile` (no .txt or anything) and just paste the following lines in it:"
   ]
  },
  {
   "cell_type": "code",
   "execution_count": null,
   "metadata": {
    "collapsed": true
   },
   "outputs": [],
   "source": [
    "FROM ubuntu\n",
    "CMD echo \"Hello Jonny\" #Yes you can use hashtags as comments here! Just use your name here."
   ]
  },
  {
   "cell_type": "markdown",
   "metadata": {},
   "source": [
    "Now after saving this file, we need to create an image out of this. Go back to your terminal, change the directory into your newly created folder and execute the following (don't forget the dot at the end):"
   ]
  },
  {
   "cell_type": "code",
   "execution_count": null,
   "metadata": {
    "collapsed": true
   },
   "outputs": [],
   "source": [
    "docker build -t my-ubuntu-image ."
   ]
  },
  {
   "cell_type": "markdown",
   "metadata": {},
   "source": [
    "What this command does is creating a new image with the tag `my-ubunut-image`. The dot at the end just tells the command that it should look in the current directory for the `Dockerfile`.    \n",
    "Now execute"
   ]
  },
  {
   "cell_type": "code",
   "execution_count": null,
   "metadata": {
    "collapsed": true
   },
   "outputs": [],
   "source": [
    "docker images"
   ]
  },
  {
   "cell_type": "markdown",
   "metadata": {},
   "source": [
    "To see your newly created image in that list. Now of course we want to run it:"
   ]
  },
  {
   "cell_type": "code",
   "execution_count": null,
   "metadata": {
    "collapsed": true
   },
   "outputs": [],
   "source": [
    "docker run my-ubuntu-image"
   ]
  },
  {
   "cell_type": "markdown",
   "metadata": {},
   "source": [
    "Did you see the output on the screen? That is because we had that in the CMD command. This command actually overwrote the `/bin/bash` command that is being executed by default.    \n",
    "Now let's do something more advanced. Let's say we want to create an ubunut container, with python already installed. For that, change your `Dockerfile` to the following:"
   ]
  },
  {
   "cell_type": "code",
   "execution_count": null,
   "metadata": {
    "collapsed": true
   },
   "outputs": [],
   "source": [
    "FROM ubuntu\n",
    "RUN apt-get upgrade && apt-get update && apt-get install -y python3"
   ]
  },
  {
   "cell_type": "markdown",
   "metadata": {},
   "source": [
    "This time we don't have the `CMD` keyword, which means it just uses the cmd command from the original ubuntu image (which is `/bin/bash`). However this time we have the `RUN` keyword, which executes any linux command during the build of the container. Here's a little comparison of the two:\n",
    "- The `CMD` keyword is for what will run as soon as you start up the container (could be any .sh script of course to make it more elaborated) \n",
    "- The `RUN` keyword is if you want to install anything inside your container\n",
    "\n",
    "We could have done a single line for each of the three commands like\n",
    "\n",
    "    RUN apt-get upgrade\n",
    "    RUN apt-get update\n",
    "    RUN apt-get install -y python3\n",
    "    \n",
    "However Docker will create a cashed container for each of the rows in a Dockerfile. This is very helpful if you need to re-run your container, cause extensivly running scripts don't need to be re-evaluated. To not create unnecessary cashes, you want to put as many commands as possible in one row.\n",
    "\n",
    "If you now save the Dockerfile with the contents above and re-run the build command `docker build -t my-ubuntu-image .`, and then run the container with the following command:"
   ]
  },
  {
   "cell_type": "code",
   "execution_count": null,
   "metadata": {
    "collapsed": true
   },
   "outputs": [],
   "source": [
    "docker run -it my-ubuntu-image"
   ]
  },
  {
   "cell_type": "markdown",
   "metadata": {},
   "source": [
    "As soon as you see the `#`, just type `python3` and you will be inside your just installed python instance.    \n",
    "However it's very likely, that you only have to customize existing containers. For data science and machine learning for instance I can recommend the official [continuum analytics anaconda container](https://hub.docker.com/r/continuumio/anaconda/)\n",
    "\n",
    "---\n",
    "### Docker Compose\n",
    "The last thing of interest for a beginner might be docker compose. Docker containers are meant to only contain one service (micro service management). But what if your applications needs multiple services like the example above? Then docker compose is your tool to fire up as many images as you need. Here is a fairly easy example, that will just fire up two containers with web apps. They both run on port 80 inside the container, so I exported them to the ports 81 and 82 on the host system. That means inside the container you would receive the html with `localhost:80`, but from the host system it would be `localhost:81` and `localhost:82`    \n",
    "The images I am refering to can be any image from the public docker hub or from your own built images.    \n",
    "Now just create a file called `docker-compose.yml` and paste the following:"
   ]
  },
  {
   "cell_type": "markdown",
   "metadata": {},
   "source": [
    "    # Docker Version: 1.13.0\n",
    "    # Docker Compose Version: 1.10.1\n",
    "\n",
    "    version: \"3\"\n",
    "\n",
    "    services:\n",
    "        web1:\n",
    "            image: dockercloud/hello-world\n",
    "            container_name: web1\n",
    "            ports:\n",
    "                - \"81:80\"\n",
    "\n",
    "        web2:\n",
    "            image: dockercloud/hello-world\n",
    "            container_name: web2\n",
    "            ports:\n",
    "                - \"82:80\""
   ]
  },
  {
   "cell_type": "markdown",
   "metadata": {},
   "source": [
    "Run all container at once with"
   ]
  },
  {
   "cell_type": "code",
   "execution_count": null,
   "metadata": {
    "collapsed": true
   },
   "outputs": [],
   "source": [
    "docker-compose up"
   ]
  },
  {
   "cell_type": "markdown",
   "metadata": {},
   "source": [
    "And check the adresses `localhost:81` and `localhost:82` on your host machine (or your VM ip adress on windows respectively. By default `192.168.99.100`). From another terminal window you can execute `docker ps -a` to see your two running containers. It should also show you the exposed ports."
   ]
  }
 ],
 "metadata": {
  "kernelspec": {
   "display_name": "Python 2",
   "language": "python",
   "name": "python2"
  },
  "language_info": {
   "codemirror_mode": {
    "name": "ipython",
    "version": 2
   },
   "file_extension": ".py",
   "mimetype": "text/x-python",
   "name": "python",
   "nbconvert_exporter": "python",
   "pygments_lexer": "ipython2",
   "version": "2.7.13"
  }
 },
 "nbformat": 4,
 "nbformat_minor": 2
}
