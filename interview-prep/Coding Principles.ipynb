{
 "cells": [
  {
   "cell_type": "markdown",
   "metadata": {},
   "source": [
    "# Coding Principles\n",
    "\n",
    "This notebook summarizes coding principles useful in Interview questions"
   ]
  },
  {
   "cell_type": "markdown",
   "metadata": {},
   "source": [
    "### Memoization / Dynamic Programming\n",
    "\n",
    "is the principle of reusing already computed parts of the algorithm. The most famouse example is the fibonachi series, in which always the last two elements added is the current element. It starts with 1. Here is an example:\n",
    "\n",
    "|index|0|1|2|3|4|5|6|7|8|9|10|11|12|13|14|15|16|17|18|19|20|21|22|23|24|\n",
    "|---|---|---|---|---|---|---|---|---|---|---|---|---|---|---|---|---|---|---|---|---|---|---|---|---|\n",
    "|fib|1|1|2|3|5|8|13|21|34|55|89|144|233|377|610|987|1597|2584|4181|6765|10946|17711|28657|46368|75025|\n",
    "\n",
    "The following is an example of the algorithm without memoization:"
   ]
  },
  {
   "cell_type": "code",
   "execution_count": 16,
   "metadata": {},
   "outputs": [],
   "source": [
    "def slow_fib(n):\n",
    "    if n in [0, 1]:\n",
    "        return 1\n",
    "    else:\n",
    "        return slow_fib(n-1) + slow_fib(n-2)"
   ]
  },
  {
   "cell_type": "markdown",
   "metadata": {},
   "source": [
    "it takes around **3 seconds** to calculate all the fibonaci sequences from 0 to 34 (the output just represents the result of the last run with n = 34):"
   ]
  },
  {
   "cell_type": "code",
   "execution_count": 38,
   "metadata": {},
   "outputs": [
    {
     "name": "stdout",
     "output_type": "stream",
     "text": [
      "CPU times: user 2.97 s, sys: 0 ns, total: 2.97 s\n",
      "Wall time: 2.98 s\n"
     ]
    },
    {
     "data": {
      "text/plain": [
       "5702887"
      ]
     },
     "execution_count": 38,
     "metadata": {},
     "output_type": "execute_result"
    }
   ],
   "source": [
    "%time [slow_fib(i) for i in range(34)][-1]"
   ]
  },
  {
   "cell_type": "markdown",
   "metadata": {},
   "source": [
    "however, a lot of the calculations are done multiple times through the recursion. Like in the higher ns, the lower ns are always recalculated for each of the tree leaves in the recusion. If we save the results of the lower ns in a hashmap, we can easily reuse them. The following run only takes **a few µs**:"
   ]
  },
  {
   "cell_type": "code",
   "execution_count": 40,
   "metadata": {},
   "outputs": [],
   "source": [
    "memo = {}\n",
    "def fib(n):\n",
    "    if n in memo: return memo[n]\n",
    "    elif n in [0, 1]:\n",
    "        memo[n] = 1\n",
    "        return memo[n]\n",
    "    else:\n",
    "        memo[n] = fib(n-1) + fib(n-2)\n",
    "        return memo[n]"
   ]
  },
  {
   "cell_type": "code",
   "execution_count": 41,
   "metadata": {},
   "outputs": [
    {
     "name": "stdout",
     "output_type": "stream",
     "text": [
      "CPU times: user 0 ns, sys: 0 ns, total: 0 ns\n",
      "Wall time: 42.2 µs\n"
     ]
    },
    {
     "data": {
      "text/plain": [
       "5702887"
      ]
     },
     "execution_count": 41,
     "metadata": {},
     "output_type": "execute_result"
    }
   ],
   "source": [
    "%time [fib(i) for i in range(34)][-1]"
   ]
  },
  {
   "cell_type": "code",
   "execution_count": 55,
   "metadata": {},
   "outputs": [
    {
     "name": "stdout",
     "output_type": "stream",
     "text": [
      "|index|0|1|2|3|4|5|6|7|8|9|10|11|12|13|14|15|16|17|18|19|20|21|22|23|24|\n",
      "|---|---|---|---|---|---|---|---|---|---|---|---|---|---|---|---|---|---|---|---|---|---|---|---|---|\n",
      "|fib|1|1|2|3|5|8|13|21|34|55|89|144|233|377|610|987|1597|2584|4181|6765|10946|17711|28657|46368|75025|"
     ]
    }
   ],
   "source": [
    "# print the markdown table for n = 25\n",
    "n = 25\n",
    "print('|index|', end='')\n",
    "for i in range(n):\n",
    "    print('{}|'.format(i), end='')\n",
    "print('\\n|', end='')\n",
    "for i in range(n):\n",
    "    print('---|', end='')\n",
    "print('\\n|fib|', end='')\n",
    "for f in [fib(i) for i in range(n)]:\n",
    "    print('{}|'.format(f), end='')"
   ]
  },
  {
   "cell_type": "code",
   "execution_count": null,
   "metadata": {},
   "outputs": [],
   "source": []
  }
 ],
 "metadata": {
  "kernelspec": {
   "display_name": "Python 3",
   "language": "python",
   "name": "python3"
  },
  "language_info": {
   "codemirror_mode": {
    "name": "ipython",
    "version": 3
   },
   "file_extension": ".py",
   "mimetype": "text/x-python",
   "name": "python",
   "nbconvert_exporter": "python",
   "pygments_lexer": "ipython3",
   "version": "3.6.4"
  }
 },
 "nbformat": 4,
 "nbformat_minor": 2
}
