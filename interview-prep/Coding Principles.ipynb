{
 "cells": [
  {
   "cell_type": "markdown",
   "metadata": {},
   "source": [
    "# Coding Principles\n",
    "\n",
    "This notebook summarizes coding principles useful in Interview questions"
   ]
  },
  {
   "cell_type": "markdown",
   "metadata": {},
   "source": [
    "## Memoization / Dynamic Programming\n",
    "\n",
    "is the principle of reusing already computed parts of the algorithm. The most famouse example is the fibonachi series, in which always the last two elements added is the current element. It starts with 1. Here is an example:\n",
    "\n",
    "|index|0|1|2|3|4|5|6|7|8|9|10|11|12|13|14|15|16|17|18|19|20|21|22|23|24|\n",
    "|---|---|---|---|---|---|---|---|---|---|---|---|---|---|---|---|---|---|---|---|---|---|---|---|---|\n",
    "|fib|1|1|2|3|5|8|13|21|34|55|89|144|233|377|610|987|1597|2584|4181|6765|10946|17711|28657|46368|75025|\n",
    "\n",
    "The following is an example of the algorithm without memoization:"
   ]
  },
  {
   "cell_type": "code",
   "execution_count": 16,
   "metadata": {},
   "outputs": [],
   "source": [
    "def slow_fib(n):\n",
    "    if n in [0, 1]:\n",
    "        return 1\n",
    "    else:\n",
    "        return slow_fib(n-1) + slow_fib(n-2)"
   ]
  },
  {
   "cell_type": "markdown",
   "metadata": {},
   "source": [
    "it takes around **3 seconds** to calculate all the fibonaci sequences from 0 to 34 (the output just represents the result of the last run with n = 34):"
   ]
  },
  {
   "cell_type": "code",
   "execution_count": 38,
   "metadata": {},
   "outputs": [
    {
     "name": "stdout",
     "output_type": "stream",
     "text": [
      "CPU times: user 2.97 s, sys: 0 ns, total: 2.97 s\n",
      "Wall time: 2.98 s\n"
     ]
    },
    {
     "data": {
      "text/plain": [
       "5702887"
      ]
     },
     "execution_count": 38,
     "metadata": {},
     "output_type": "execute_result"
    }
   ],
   "source": [
    "%time [slow_fib(i) for i in range(34)][-1]"
   ]
  },
  {
   "cell_type": "markdown",
   "metadata": {},
   "source": [
    "however, a lot of the calculations are done multiple times through the recursion. Like in the higher ns, the lower ns are always recalculated for each of the tree leaves in the recusion. If we save the results of the lower ns in a hashmap, we can easily reuse them. The following run only takes **a few µs**:"
   ]
  },
  {
   "cell_type": "code",
   "execution_count": 40,
   "metadata": {},
   "outputs": [],
   "source": [
    "memo = {}\n",
    "def fib(n):\n",
    "    if n in memo: return memo[n]\n",
    "    elif n in [0, 1]:\n",
    "        memo[n] = 1\n",
    "        return memo[n]\n",
    "    else:\n",
    "        memo[n] = fib(n-1) + fib(n-2)\n",
    "        return memo[n]"
   ]
  },
  {
   "cell_type": "code",
   "execution_count": 41,
   "metadata": {},
   "outputs": [
    {
     "name": "stdout",
     "output_type": "stream",
     "text": [
      "CPU times: user 0 ns, sys: 0 ns, total: 0 ns\n",
      "Wall time: 42.2 µs\n"
     ]
    },
    {
     "data": {
      "text/plain": [
       "5702887"
      ]
     },
     "execution_count": 41,
     "metadata": {},
     "output_type": "execute_result"
    }
   ],
   "source": [
    "%time [fib(i) for i in range(34)][-1]"
   ]
  },
  {
   "cell_type": "code",
   "execution_count": 55,
   "metadata": {},
   "outputs": [
    {
     "name": "stdout",
     "output_type": "stream",
     "text": [
      "|index|0|1|2|3|4|5|6|7|8|9|10|11|12|13|14|15|16|17|18|19|20|21|22|23|24|\n",
      "|---|---|---|---|---|---|---|---|---|---|---|---|---|---|---|---|---|---|---|---|---|---|---|---|---|\n",
      "|fib|1|1|2|3|5|8|13|21|34|55|89|144|233|377|610|987|1597|2584|4181|6765|10946|17711|28657|46368|75025|"
     ]
    }
   ],
   "source": [
    "# print the markdown table for n = 25\n",
    "n = 25\n",
    "print('|index|', end='')\n",
    "for i in range(n):\n",
    "    print('{}|'.format(i), end='')\n",
    "print('\\n|', end='')\n",
    "for i in range(n):\n",
    "    print('---|', end='')\n",
    "print('\\n|fib|', end='')\n",
    "for f in [fib(i) for i in range(n)]:\n",
    "    print('{}|'.format(f), end='')"
   ]
  },
  {
   "cell_type": "markdown",
   "metadata": {},
   "source": [
    "## Big O Notation\n",
    "\n",
    "Time and space complexity are notated with Big O. It is a pseudo function that roughly represents the scale of time and space. There are some ground rules:\n",
    "\n",
    "* Drop constants (they have no relevant influence on runtime)\n",
    "* Don't drop non-constants\n",
    "* Use different variables for different steps\n",
    "* N can only represent one thing\n",
    "* Add vs Multiply (steps after each other vs a step for each step)\n",
    "\n",
    "Here are a few examples:"
   ]
  },
  {
   "cell_type": "markdown",
   "metadata": {},
   "source": [
    "`O(n)`:"
   ]
  },
  {
   "cell_type": "raw",
   "metadata": {},
   "source": [
    "for i in array:\n",
    "    print(i)"
   ]
  },
  {
   "cell_type": "markdown",
   "metadata": {},
   "source": [
    "still `O(n)`, because constants are dropped (would be `O(2n)` otherwise)"
   ]
  },
  {
   "cell_type": "raw",
   "metadata": {},
   "source": [
    "for i in array:\n",
    "    print(i)\n",
    "    \n",
    "for i in array:\n",
    "    print(i + 1)"
   ]
  },
  {
   "cell_type": "markdown",
   "metadata": {},
   "source": [
    "`O(a*b)` (because different lenghts):"
   ]
  },
  {
   "cell_type": "raw",
   "metadata": {},
   "source": [
    "for a in arr:\n",
    "    for b in brr:\n",
    "        print(a+b)"
   ]
  },
  {
   "cell_type": "markdown",
   "metadata": {},
   "source": [
    "`O(P + P * Y + L) --> O(P * Y + L)` (because drop constants. L isn't dropped, because it's unrelated. But P is definitelly smaller than `P * L`:"
   ]
  },
  {
   "cell_type": "raw",
   "metadata": {},
   "source": [
    "oldest_age = 0\n",
    "\n",
    "# step 1: calculate oldest age O(P):\n",
    "for p in persons:\n",
    "    oldest_age = max(p.age, oldest_age)\n",
    "    \n",
    "# step 2: Print age for each year for each person O(P * Y):\n",
    "for p in persons:\n",
    "    for year in range(p.age):\n",
    "        print('{} was {} years old in {}'.format(person.name, year, current_year - p.age + year)\n",
    "        \n",
    "# step 3: calculate the max population throught all years O(l) (because the years in this step are different to the\n",
    "#         years in the last step\n",
    "for year in range(2050):\n",
    "    max_population = max(max_population, get_population_in_year(year))\n"
   ]
  },
  {
   "cell_type": "markdown",
   "metadata": {},
   "source": [
    "`undefined` because we don't know what the `perform_action()` function does. What if there is another iteration?"
   ]
  },
  {
   "cell_type": "raw",
   "metadata": {},
   "source": [
    "for i in array:\n",
    "    perform_action(i)"
   ]
  },
  {
   "cell_type": "markdown",
   "metadata": {},
   "source": [
    "The first fibonatchi example from the first section would have a runtime of `O(n^2)`, because each iteration n spawns two more iterations. So it would be like 2 * 2 * 2 * 2 * 2 ... n times.\n",
    "The second fibonatch example would only have a runtime of `O(n)`, because each operation only has to be executed once."
   ]
  },
  {
   "cell_type": "markdown",
   "metadata": {},
   "source": [
    "## Hash Maps\n",
    "\n",
    "Hash maps in python are essentialy dictionarys. How they work under the hood is that a given string (the `key`) is hashed with a hash function. This hash is then the indext to an actual array. The object can be requested instantly through its memory location. If two keys resolve to the same hash (which is possible, but very unlikely due to billions of possible hashes), we call that a collision. If there would be a collision, this hash index would just have a linked list of all the contents that had the same hash index."
   ]
  },
  {
   "cell_type": "markdown",
   "metadata": {},
   "source": [
    "## Trees\n",
    "\n",
    "This is a sample implementation of a binary tree:"
   ]
  },
  {
   "cell_type": "code",
   "execution_count": 61,
   "metadata": {},
   "outputs": [],
   "source": [
    "class node():\n",
    "    \n",
    "    def __init__(self, id):\n",
    "        self.id = id\n",
    "        \n",
    "    def __repr__(self):\n",
    "        return ('Node with id {}'.format(self.id))\n",
    "        \n",
    "    left_child = None\n",
    "    right_child = None\n",
    "    \n",
    "    def get_node_id(self, id):\n",
    "        return self.id\n",
    "    \n",
    "    def insert(self, id):\n",
    "        if id > self.id:\n",
    "            if self.right_child == None:\n",
    "                self.right_child = node(id)\n",
    "            else:\n",
    "                self.right_child.insert(id)\n",
    "        else:\n",
    "            if self.left_child == None:\n",
    "                self.left_child = node(id)\n",
    "            else:\n",
    "                self.left_child.insert(id)\n",
    "                \n",
    "    def contains(self, id):\n",
    "        if id == self.id:\n",
    "            return True\n",
    "        elif id > self.id and self.right_child:\n",
    "            return self.right_child.contains(id)\n",
    "        elif id <= self.id and self.left_child:\n",
    "            return self.left_child.contains(id)\n",
    "        else:\n",
    "            return False"
   ]
  },
  {
   "cell_type": "code",
   "execution_count": 99,
   "metadata": {},
   "outputs": [],
   "source": [
    "root = node(10)\n",
    "for i in [11,9,12,8,13,15,17,19,1,3,2,4]:\n",
    "    root.insert(i)"
   ]
  },
  {
   "cell_type": "code",
   "execution_count": 100,
   "metadata": {},
   "outputs": [
    {
     "data": {
      "text/plain": [
       "True"
      ]
     },
     "execution_count": 100,
     "metadata": {},
     "output_type": "execute_result"
    }
   ],
   "source": [
    "root.contains(15)"
   ]
  },
  {
   "cell_type": "code",
   "execution_count": 101,
   "metadata": {},
   "outputs": [
    {
     "data": {
      "text/plain": [
       "False"
      ]
     },
     "execution_count": 101,
     "metadata": {},
     "output_type": "execute_result"
    }
   ],
   "source": [
    "root.contains(23)"
   ]
  },
  {
   "cell_type": "markdown",
   "metadata": {},
   "source": [
    "#### In-Order Traversal\n",
    "Vistis (often prints) the nodes of the tree in order. That is, we visit the left child first, then visit the root and then the right child."
   ]
  },
  {
   "cell_type": "code",
   "execution_count": 102,
   "metadata": {},
   "outputs": [],
   "source": [
    "def inOrderTraversal(node):\n",
    "    if node:\n",
    "        inOrderTraversal(node.left_child)\n",
    "        print(node)\n",
    "        inOrderTraversal(node.right_child)"
   ]
  },
  {
   "cell_type": "code",
   "execution_count": 103,
   "metadata": {},
   "outputs": [
    {
     "name": "stdout",
     "output_type": "stream",
     "text": [
      "Node with id 1\n",
      "Node with id 2\n",
      "Node with id 3\n",
      "Node with id 4\n",
      "Node with id 8\n",
      "Node with id 9\n",
      "Node with id 10\n",
      "Node with id 11\n",
      "Node with id 12\n",
      "Node with id 13\n",
      "Node with id 15\n",
      "Node with id 17\n",
      "Node with id 19\n"
     ]
    }
   ],
   "source": [
    "inOrderTraversal(root)"
   ]
  },
  {
   "cell_type": "markdown",
   "metadata": {},
   "source": [
    "#### Pre-Order Traversal\n",
    "Vistis (often prints) the nodes of the tree in pre-order. That is we visit the root first and then left and right child.  \n",
    "pre-order is the best one to actually print with indent, cause it will give the best visual representation of the tree."
   ]
  },
  {
   "cell_type": "code",
   "execution_count": 104,
   "metadata": {},
   "outputs": [],
   "source": [
    "def preOrderTraversal(node, indent = 0):\n",
    "    if node:\n",
    "        print(\" \"*indent, end=\"\")\n",
    "        print(node)\n",
    "        preOrderTraversal(node.left_child, indent+3)\n",
    "        preOrderTraversal(node.right_child, indent+3)"
   ]
  },
  {
   "cell_type": "code",
   "execution_count": 105,
   "metadata": {},
   "outputs": [
    {
     "name": "stdout",
     "output_type": "stream",
     "text": [
      "Node with id 10\n",
      "   Node with id 9\n",
      "      Node with id 8\n",
      "         Node with id 1\n",
      "            Node with id 3\n",
      "               Node with id 2\n",
      "               Node with id 4\n",
      "   Node with id 11\n",
      "      Node with id 12\n",
      "         Node with id 13\n",
      "            Node with id 15\n",
      "               Node with id 17\n",
      "                  Node with id 19\n"
     ]
    }
   ],
   "source": [
    "preOrderTraversal(root)"
   ]
  },
  {
   "cell_type": "markdown",
   "metadata": {},
   "source": [
    "#### Post-Order Traversal\n",
    "Vistis (often prints) the nodes of the tree in post-order. That is we visit the root after the left and right child."
   ]
  },
  {
   "cell_type": "code",
   "execution_count": 106,
   "metadata": {},
   "outputs": [],
   "source": [
    "def postOrderTraversal(node):\n",
    "    if node:\n",
    "        postOrderTraversal(node.left_child)\n",
    "        postOrderTraversal(node.right_child)\n",
    "        print(node)"
   ]
  },
  {
   "cell_type": "code",
   "execution_count": 107,
   "metadata": {},
   "outputs": [
    {
     "name": "stdout",
     "output_type": "stream",
     "text": [
      "Node with id 2\n",
      "Node with id 4\n",
      "Node with id 3\n",
      "Node with id 1\n",
      "Node with id 8\n",
      "Node with id 9\n",
      "Node with id 19\n",
      "Node with id 17\n",
      "Node with id 15\n",
      "Node with id 13\n",
      "Node with id 12\n",
      "Node with id 11\n",
      "Node with id 10\n"
     ]
    }
   ],
   "source": [
    "postOrderTraversal(root)"
   ]
  },
  {
   "cell_type": "markdown",
   "metadata": {},
   "source": [
    "## Graph Search\n",
    "\n",
    "To walk through trees from a given source to a given target, we mainly distinguish between D(epth) F(irst) S(earch) and B(epth) F(irst) S(earch). The former begins with the first child of the root node and recursevely goes deeper into the first node, as deep as possible. Every node is checked, if it's the searched target node. If the deepest level is reached, then just continue with the next node one level higher. This might have the disadvantage, that the second child node of the root node might be the target node, however the first child had an immense sub-tree with many children and a high depth. With DFS we would have walked all the way through the first node just to see that the target was right there. The latter approach checks each child first if it's the target. If all child nodes on one level are not the target, go a level deeper.\n",
    "\n",
    "### Sample implementation for DFS:"
   ]
  }
 ],
 "metadata": {
  "kernelspec": {
   "display_name": "Python 3",
   "language": "python",
   "name": "python3"
  },
  "language_info": {
   "codemirror_mode": {
    "name": "ipython",
    "version": 3
   },
   "file_extension": ".py",
   "mimetype": "text/x-python",
   "name": "python",
   "nbconvert_exporter": "python",
   "pygments_lexer": "ipython3",
   "version": "3.6.4"
  }
 },
 "nbformat": 4,
 "nbformat_minor": 2
}
